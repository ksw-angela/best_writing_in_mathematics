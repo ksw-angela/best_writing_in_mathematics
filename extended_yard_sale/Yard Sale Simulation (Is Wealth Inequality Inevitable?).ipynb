{
 "cells": [
  {
   "cell_type": "markdown",
   "id": "12ac8108",
   "metadata": {},
   "source": [
    "This notebook verifies the research on inequality highlighted in [this](https://www.scientificamerican.com/article/is-inequality-inevitable/) Scientific American article, which attempts to show that in a market with finite money and random chances of making money for a one-on-one transaction, a small group of actors accumulate all the wealth."
   ]
  },
  {
   "cell_type": "markdown",
   "id": "efc13992",
   "metadata": {},
   "source": [
    "We've implemented a helper class in `../helper.py` to run the simulations."
   ]
  },
  {
   "cell_type": "code",
   "execution_count": 2,
   "id": "4ec8dcf0",
   "metadata": {},
   "outputs": [],
   "source": [
    "import ipywidgets as widgets\n",
    "from helper import ExtendedYardSale\n",
    "from helper import plot_wealth"
   ]
  },
  {
   "cell_type": "markdown",
   "id": "05754bc3",
   "metadata": {},
   "source": [
    "# Basic Yard Sale Simulation"
   ]
  },
  {
   "cell_type": "markdown",
   "id": "d03d037d",
   "metadata": {},
   "source": [
    "Let's start with the basics. The entire notebook uses variants on the **yard sale model** - a mathematical model that simplifies the one-on-one transactions featured in yard sales. Here, money moves from one person to the other if one of the parties make a mistake in estimating the value of the good. The amount of money exchanged depends on a fraction of the wealth of the poorer person."
   ]
  },
  {
   "cell_type": "markdown",
   "id": "ef757d86",
   "metadata": {},
   "source": [
    "Let's start with the most basic yard sale scenario:\n",
    "- There are 100 people\n",
    "- Everyone starts with $100\n",
    "- Everyone uses the same coin to determine if they win or lose money\n",
    "- Everyone receives 5% of the poorer person's wealth if they win\n",
    "\n",
    "We will check the distribution of wealth after every 1000 transactions."
   ]
  },
  {
   "cell_type": "code",
   "execution_count": 2,
   "id": "680628d2",
   "metadata": {},
   "outputs": [
    {
     "data": {
      "application/vnd.jupyter.widget-view+json": {
       "model_id": "b5443db207f340eeb0cfdc0432e7099b",
       "version_major": 2,
       "version_minor": 0
      },
      "text/plain": [
       "  0%|          | 0/10000 [00:00<?, ?it/s]"
      ]
     },
     "metadata": {},
     "output_type": "display_data"
    }
   ],
   "source": [
    "basic_ysm_wealth = {p: 100 for p in range(100)}\n",
    "basic_ysm = ExtendedYardSale(basic_ysm_wealth, 0.05)\n",
    "basic_yard_sale_results = basic_ysm.run_yard_sale()"
   ]
  },
  {
   "cell_type": "markdown",
   "id": "b47148a6",
   "metadata": {},
   "source": [
    "Even though everyone started with the same amount and each person is just as likely to win vs. lose money in a single transaction, we see that a small handful of people come out as winners. Take a look at person 27 and 48 - they own a little over 36% of all the wealth by the end of the simulation!"
   ]
  },
  {
   "cell_type": "code",
   "execution_count": 5,
   "id": "68b0aebd",
   "metadata": {},
   "outputs": [
    {
     "data": {
      "application/vnd.jupyter.widget-view+json": {
       "model_id": "d8f087a7b32e428a825e44796c560c0c",
       "version_major": 2,
       "version_minor": 0
      },
      "text/plain": [
       "interactive(children=(SelectionSlider(continuous_update=False, description='Number of iterations', options=(0,…"
      ]
     },
     "metadata": {},
     "output_type": "display_data"
    },
    {
     "data": {
      "text/plain": [
       "<function __main__.f(n)>"
      ]
     },
     "execution_count": 5,
     "metadata": {},
     "output_type": "execute_result"
    }
   ],
   "source": [
    "def f(n):\n",
    "    plot_wealth(basic_yard_sale_results, n)\n",
    "\n",
    "plot_n = list(basic_yard_sale_results.keys())\n",
    "widgets.interact(f, n=widgets.SelectionSlider(options=plot_n,\n",
    "                                              value=plot_n[0],\n",
    "                                              description='Number of iterations',\n",
    "                                              continuous_update=False,\n",
    "                                              orientation='horizontal'))"
   ]
  },
  {
   "cell_type": "markdown",
   "id": "d448c304",
   "metadata": {},
   "source": [
    "# Including Flat Wealth Tax"
   ]
  },
  {
   "cell_type": "markdown",
   "id": "2d57e4c9",
   "metadata": {},
   "source": [
    "What if we implemented a wealth redistribution step by including a flat tax for people richer than the average? Would this help prevent a small handful of people accumulating all the wealth? We modify the basic yard sale scenario by adding a wealth tax of 2% paid before every transaction."
   ]
  },
  {
   "cell_type": "code",
   "execution_count": 3,
   "id": "e0a1703a",
   "metadata": {},
   "outputs": [
    {
     "data": {
      "application/vnd.jupyter.widget-view+json": {
       "model_id": "eff2513c36b247c8b60f1ce646fffc48",
       "version_major": 2,
       "version_minor": 0
      },
      "text/plain": [
       "  0%|          | 0/10000 [00:00<?, ?it/s]"
      ]
     },
     "metadata": {},
     "output_type": "display_data"
    }
   ],
   "source": [
    "basic_ysm_wealth = {p: 100 for p in range(100)}\n",
    "wealth_tax_ysm = ExtendedYardSale(basic_ysm_wealth, 0.05, chi=0.02)\n",
    "wealth_tax_yard_sale_results = wealth_tax_ysm.run_yard_sale()"
   ]
  },
  {
   "cell_type": "markdown",
   "id": "9331db1a",
   "metadata": {},
   "source": [
    "Wow! Even a small tax of 2% keeps the wealth inequality in check!"
   ]
  },
  {
   "cell_type": "code",
   "execution_count": 4,
   "id": "5bca20cd",
   "metadata": {},
   "outputs": [
    {
     "data": {
      "application/vnd.jupyter.widget-view+json": {
       "model_id": "cba661a6b61e400d8701dc36701c5b16",
       "version_major": 2,
       "version_minor": 0
      },
      "text/plain": [
       "interactive(children=(SelectionSlider(continuous_update=False, description='Number of iterations', options=(10…"
      ]
     },
     "metadata": {},
     "output_type": "display_data"
    },
    {
     "data": {
      "text/plain": [
       "<function __main__.f(n)>"
      ]
     },
     "execution_count": 4,
     "metadata": {},
     "output_type": "execute_result"
    }
   ],
   "source": [
    "def f(n):\n",
    "    plot_wealth(wealth_tax_yard_sale_results, n)\n",
    "\n",
    "plot_n = list(wealth_tax_yard_sale_results.keys())\n",
    "widgets.interact(f, n=widgets.SelectionSlider(options=plot_n,\n",
    "                                              value=plot_n[0],\n",
    "                                              description='Number of iterations',\n",
    "                                              continuous_update=False,\n",
    "                                              orientation='horizontal'))"
   ]
  },
  {
   "cell_type": "code",
   "execution_count": null,
   "id": "e80a5eaa",
   "metadata": {},
   "outputs": [],
   "source": []
  }
 ],
 "metadata": {
  "kernelspec": {
   "display_name": "Python 3 (ipykernel)",
   "language": "python",
   "name": "python3"
  },
  "language_info": {
   "codemirror_mode": {
    "name": "ipython",
    "version": 3
   },
   "file_extension": ".py",
   "mimetype": "text/x-python",
   "name": "python",
   "nbconvert_exporter": "python",
   "pygments_lexer": "ipython3",
   "version": "3.8.9"
  }
 },
 "nbformat": 4,
 "nbformat_minor": 5
}
