{
 "cells": [
  {
   "cell_type": "markdown",
   "id": "0d393b4a",
   "metadata": {},
   "source": [
    "This notebook verifies the research on inequality highlighted in [this](https://www.scientificamerican.com/article/is-inequality-inevitable/) Scientific American article, which attempts to show that in a market with finite money and random chances of making money on a one-on-one transaction, a small group of actors accumulate all the wealth."
   ]
  },
  {
   "cell_type": "code",
   "execution_count": null,
   "id": "b1cd5c2f",
   "metadata": {},
   "outputs": [],
   "source": []
  }
 ],
 "metadata": {
  "kernelspec": {
   "display_name": "Python 3 (ipykernel)",
   "language": "python",
   "name": "python3"
  },
  "language_info": {
   "codemirror_mode": {
    "name": "ipython",
    "version": 3
   },
   "file_extension": ".py",
   "mimetype": "text/x-python",
   "name": "python",
   "nbconvert_exporter": "python",
   "pygments_lexer": "ipython3",
   "version": "3.8.13"
  }
 },
 "nbformat": 4,
 "nbformat_minor": 5
}
